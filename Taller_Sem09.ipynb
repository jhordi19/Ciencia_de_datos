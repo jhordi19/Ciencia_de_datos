{
  "cells": [
    {
      "cell_type": "markdown",
      "metadata": {
        "id": "view-in-github",
        "colab_type": "text"
      },
      "source": [
        "<a href=\"https://colab.research.google.com/github/jhordi19/Ciencia_de_datos/blob/Taller/Taller_Sem10.ipynb\" target=\"_parent\"><img src=\"https://colab.research.google.com/assets/colab-badge.svg\" alt=\"Open In Colab\"/></a>"
      ]
    },
    {
      "cell_type": "markdown",
      "metadata": {
        "id": "TqRtpgWE_a2q"
      },
      "source": [
        "#**Valoración de Riesgo de Hipertensión Modelo ML**"
      ]
    },
    {
      "cell_type": "markdown",
      "metadata": {
        "id": "YKITrRjbGEiB"
      },
      "source": [
        "El dataset fue sacado de Kaggle el cual tiene el nombre de\n",
        "[Hypertension Risk Prediction Dataset](https://www.kaggle.com/datasets/ankushpanday1/hypertension-risk-prediction-dataset/datahttps://)"
      ]
    },
    {
      "cell_type": "markdown",
      "metadata": {
        "id": "zxw2MxWw5V0w"
      },
      "source": [
        "##Realizamos el preprocesamiento de las columnas"
      ]
    },
    {
      "cell_type": "code",
      "execution_count": null,
      "metadata": {
        "id": "Z1VmkxKDpkHt"
      },
      "outputs": [],
      "source": [
        "import pandas as pd\n",
        "from sklearn.model_selection import train_test_split\n",
        "from sklearn.preprocessing import StandardScaler\n",
        "from sklearn.svm import SVC\n",
        "from sklearn.metrics import classification_report, confusion_matrix, accuracy_score\n",
        "\n",
        "# Cargar dataset\n",
        "df = pd.read_csv(\"hypertension_dataset.csv\")\n",
        "\n",
        "# Columnas seleccionadas\n",
        "cols = ['Gender', 'Age', 'BMI', 'Physical_Activity_Level', 'Sleep_Duration',\n",
        "        'Smoking_Status', 'Family_History', 'Stress_Level', 'Hypertension',\n",
        "        'Salt_Intake', 'Alcohol_Intake']\n",
        "df = df[cols].copy()\n",
        "\n",
        "# Mapeo de variables categóricas\n",
        "df['Hypertension'] = df['Hypertension'].map({'Low': 0, 'High': 1})\n",
        "df['Family_History'] = df['Family_History'].map({'No': 0, 'Yes': 1})\n",
        "df['Gender'] = df['Gender'].map({'Female': 0, 'Male': 1})\n",
        "df['Physical_Activity_Level'] = df['Physical_Activity_Level'].map({'Low': 2, 'Moderate': 1, 'High': 0})\n",
        "df['Smoking_Status'] = df['Smoking_Status'].map({'Never': 0, 'Former': 1, 'Current': 2})\n",
        "\n",
        "# Separar variables y objetivo\n",
        "X = df.drop(\"Hypertension\", axis=1)\n",
        "y = df[\"Hypertension\"]\n",
        "\n",
        "# Dividir en train/test\n",
        "X_train, X_test, y_train, y_test = train_test_split(X, y, test_size=0.2, random_state=42, stratify=y)\n",
        "\n",
        "# Escalar datos\n",
        "scaler = StandardScaler()\n",
        "X_train_scaled = scaler.fit_transform(X_train)\n",
        "X_test_scaled = scaler.transform(X_test)\n"
      ]
    },
    {
      "cell_type": "markdown",
      "metadata": {
        "id": "Z55Grrbs5bhY"
      },
      "source": [
        "##Entrenamiento con SVM"
      ]
    },
    {
      "cell_type": "markdown",
      "metadata": {
        "id": "tXLVeT5_5dzA"
      },
      "source": [
        "### Kernel Lineal"
      ]
    },
    {
      "cell_type": "code",
      "execution_count": null,
      "metadata": {
        "colab": {
          "base_uri": "https://localhost:8080/"
        },
        "id": "u9LCycAiGyht",
        "outputId": "938955f9-9ddc-4642-8f14-f0b303d2497f"
      },
      "outputs": [
        {
          "name": "stdout",
          "output_type": "stream",
          "text": [
            "============ KERNEL LINEAL ============\n",
            "\n",
            "=== MATRIZ DE CONFUSIÓN ===\n",
            "[[ 4841  4999]\n",
            " [12538 12619]]\n",
            "\n",
            "=== REPORTE DE CLASIFICACIÓN ===\n",
            "              precision    recall  f1-score   support\n",
            "\n",
            "           0       0.28      0.49      0.36      9840\n",
            "           1       0.72      0.50      0.59     25157\n",
            "\n",
            "    accuracy                           0.50     34997\n",
            "   macro avg       0.50      0.50      0.47     34997\n",
            "weighted avg       0.59      0.50      0.52     34997\n",
            "\n",
            "\n",
            "=== EXACTITUD ===\n",
            "Accuracy: 0.4988999057062034\n"
          ]
        }
      ],
      "source": [
        "# Entrenar modelo SVM simple\n",
        "svm_linear = SVC(kernel='linear', C=1, class_weight='balanced', random_state=42)\n",
        "svm_linear.fit(X_train_scaled, y_train)\n",
        "\n",
        "# Predicciones\n",
        "y_pred_linear = svm_linear.predict(X_test_scaled)\n",
        "\n",
        "# Evaluación del modelo\n",
        "print(\"============ KERNEL LINEAL ============\")\n",
        "print(\"\\n=== MATRIZ DE CONFUSIÓN ===\")\n",
        "print(confusion_matrix(y_test, y_pred_linear))\n",
        "\n",
        "print(\"\\n=== REPORTE DE CLASIFICACIÓN ===\")\n",
        "print(classification_report(y_test, y_pred_linear))\n",
        "\n",
        "print(\"\\n=== EXACTITUD ===\")\n",
        "print(\"Accuracy:\", accuracy_score(y_test, y_pred_linear))"
      ]
    },
    {
      "cell_type": "markdown",
      "metadata": {
        "id": "O7XUI5az5p4I"
      },
      "source": [
        "### Kernel Radial/Gaussiano"
      ]
    },
    {
      "cell_type": "code",
      "execution_count": null,
      "metadata": {
        "colab": {
          "base_uri": "https://localhost:8080/",
          "height": 488
        },
        "id": "Wj9fhsT4MPN9",
        "outputId": "a0da15df-05c1-4902-e26c-2db5f60c1eb6"
      },
      "outputs": [
        {
          "name": "stdout",
          "output_type": "stream",
          "text": [
            "============ KERNEL RADIAL ============\n",
            "\n",
            "=== MATRIZ DE CONFUSIÓN ===\n",
            "[[ 4709  5131]\n",
            " [12029 13128]]\n",
            "\n",
            "=== REPORTE DE CLASIFICACIÓN ===\n",
            "              precision    recall  f1-score   support\n",
            "\n",
            "           0       0.28      0.48      0.35      9840\n",
            "           1       0.72      0.52      0.60     25157\n",
            "\n",
            "    accuracy                           0.51     34997\n",
            "   macro avg       0.50      0.50      0.48     34997\n",
            "weighted avg       0.60      0.51      0.53     34997\n",
            "\n",
            "\n",
            "=== EXACTITUD ===\n",
            "Accuracy: 0.5096722576220819\n"
          ]
        }
      ],
      "source": [
        "from sklearn.svm import SVC\n",
        "\n",
        "# Crear el modelo SVM con kernel RBF\n",
        "svm_rbf = SVC(kernel='rbf', C=1, gamma='scale', class_weight='balanced', random_state=42)\n",
        "\n",
        "# Entrenar el modelo con datos escalados\n",
        "svm_rbf.fit(X_train_scaled, y_train)\n",
        "\n",
        "# Predecir en el conjunto de prueba escalado\n",
        "y_pred_rbf = svm_rbf.predict(X_test_scaled)\n",
        "\n",
        "# Evaluación\n",
        "print(\"============ KERNEL RADIAL ============\")\n",
        "print(\"\\n=== MATRIZ DE CONFUSIÓN ===\")\n",
        "print(confusion_matrix(y_test, y_pred_rbf))\n",
        "\n",
        "print(\"\\n=== REPORTE DE CLASIFICACIÓN ===\")\n",
        "print(classification_report(y_test, y_pred_rbf))\n",
        "\n",
        "print(\"\\n=== EXACTITUD ===\")\n",
        "print(\"Accuracy:\", accuracy_score(y_test, y_pred_rbf))"
      ]
    },
    {
      "cell_type": "markdown",
      "metadata": {
        "id": "Vei-Y1DS5qzX"
      },
      "source": [
        "### Kernel Polinomial"
      ]
    },
    {
      "cell_type": "code",
      "execution_count": null,
      "metadata": {
        "id": "M6p3bFsNNUU1",
        "outputId": "2fbc8144-521e-4bb2-8442-20fcc517a77f"
      },
      "outputs": [
        {
          "name": "stdout",
          "output_type": "stream",
          "text": [
            "============ KERNEL POLINOMIAL ============\n",
            "\n",
            "=== MATRIZ DE CONFUSIÓN ===\n",
            "[[ 4898  4942]\n",
            " [12460 12697]]\n",
            "\n",
            "=== REPORTE DE CLASIFICACIÓN ===\n",
            "              precision    recall  f1-score   support\n",
            "\n",
            "           0       0.28      0.50      0.36      9840\n",
            "           1       0.72      0.50      0.59     25157\n",
            "\n",
            "    accuracy                           0.50     34997\n",
            "   macro avg       0.50      0.50      0.48     34997\n",
            "weighted avg       0.60      0.50      0.53     34997\n",
            "\n",
            "\n",
            "=== EXACTITUD ===\n",
            "Accuracy: 0.5027573792039318\n"
          ]
        }
      ],
      "source": [
        "# Crear modelo SVM con kernel polinomial\n",
        "svm_poly = SVC(kernel='poly', degree=3, C=1, gamma='scale', class_weight='balanced', random_state=42)\n",
        "\n",
        "# Entrenar con datos escalados\n",
        "svm_poly.fit(X_train_scaled, y_train)\n",
        "\n",
        "# Predecir en el conjunto de prueba escalado\n",
        "y_pred_poly = svm_poly.predict(X_test_scaled)\n",
        "\n",
        "# Evaluación\n",
        "print(\"============ KERNEL POLINOMIAL ============\")\n",
        "print(\"\\n=== MATRIZ DE CONFUSIÓN ===\")\n",
        "print(confusion_matrix(y_test, y_pred_poly))\n",
        "\n",
        "print(\"\\n=== REPORTE DE CLASIFICACIÓN ===\")\n",
        "print(classification_report(y_test, y_pred_poly))\n",
        "\n",
        "print(\"\\n=== EXACTITUD ===\")\n",
        "print(\"Accuracy:\", accuracy_score(y_test, y_pred_poly))"
      ]
    },
    {
      "cell_type": "markdown",
      "metadata": {
        "id": "zYof3rP45zHI"
      },
      "source": [
        "### Resultados"
      ]
    },
    {
      "cell_type": "code",
      "execution_count": null,
      "metadata": {
        "id": "SerPvwltQQH8",
        "outputId": "7d017230-cf08-4fad-f628-13ffae10ea6c"
      },
      "outputs": [
        {
          "name": "stdout",
          "output_type": "stream",
          "text": [
            "📊 Métricas comparadas:\n"
          ]
        },
        {
          "data": {
            "text/html": [
              "<div>\n",
              "<style scoped>\n",
              "    .dataframe tbody tr th:only-of-type {\n",
              "        vertical-align: middle;\n",
              "    }\n",
              "\n",
              "    .dataframe tbody tr th {\n",
              "        vertical-align: top;\n",
              "    }\n",
              "\n",
              "    .dataframe thead th {\n",
              "        text-align: right;\n",
              "    }\n",
              "</style>\n",
              "<table border=\"1\" class=\"dataframe\">\n",
              "  <thead>\n",
              "    <tr style=\"text-align: right;\">\n",
              "      <th></th>\n",
              "      <th>Accuracy</th>\n",
              "      <th>Precision</th>\n",
              "      <th>Recall</th>\n",
              "      <th>F1-Score</th>\n",
              "    </tr>\n",
              "  </thead>\n",
              "  <tbody>\n",
              "    <tr>\n",
              "      <th>Lineal</th>\n",
              "      <td>0.498900</td>\n",
              "      <td>0.593189</td>\n",
              "      <td>0.498900</td>\n",
              "      <td>0.524137</td>\n",
              "    </tr>\n",
              "    <tr>\n",
              "      <th>Radial/Gaussiano</th>\n",
              "      <td>0.509672</td>\n",
              "      <td>0.595935</td>\n",
              "      <td>0.509672</td>\n",
              "      <td>0.534350</td>\n",
              "    </tr>\n",
              "    <tr>\n",
              "      <th>Polinomial</th>\n",
              "      <td>0.502757</td>\n",
              "      <td>0.596773</td>\n",
              "      <td>0.502757</td>\n",
              "      <td>0.527805</td>\n",
              "    </tr>\n",
              "  </tbody>\n",
              "</table>\n",
              "</div>"
            ],
            "text/plain": [
              "                  Accuracy  Precision    Recall  F1-Score\n",
              "Lineal            0.498900   0.593189  0.498900  0.524137\n",
              "Radial/Gaussiano  0.509672   0.595935  0.509672  0.534350\n",
              "Polinomial        0.502757   0.596773  0.502757  0.527805"
            ]
          },
          "metadata": {},
          "output_type": "display_data"
        },
        {
          "data": {
            "image/png": "[encoded data removed]",
            "text/plain": [
              "<Figure size 1000x600 with 1 Axes>"
            ]
          },
          "metadata": {},
          "output_type": "display_data"
        }
      ],
      "source": [
        "from sklearn.metrics import accuracy_score, precision_score, recall_score, f1_score\n",
        "import pandas as pd\n",
        "import matplotlib.pyplot as plt\n",
        "import numpy as np\n",
        "\n",
        "# Calcular métricas para cada modelo\n",
        "metricas = {\n",
        "    \"Lineal\": {\n",
        "        \"Accuracy\": accuracy_score(y_test, y_pred_linear),\n",
        "        \"Precision\": precision_score(y_test, y_pred_linear, average='weighted'),\n",
        "        \"Recall\": recall_score(y_test, y_pred_linear, average='weighted'),\n",
        "        \"F1-Score\": f1_score(y_test, y_pred_linear, average='weighted')\n",
        "    },\n",
        "    \"Radial/Gaussiano\": {\n",
        "        \"Accuracy\": accuracy_score(y_test, y_pred_rbf),\n",
        "        \"Precision\": precision_score(y_test, y_pred_rbf, average='weighted'),\n",
        "        \"Recall\": recall_score(y_test, y_pred_rbf, average='weighted'),\n",
        "        \"F1-Score\": f1_score(y_test, y_pred_rbf, average='weighted')\n",
        "    },\n",
        "    \"Polinomial\": {\n",
        "        \"Accuracy\": accuracy_score(y_test, y_pred_poly),\n",
        "        \"Precision\": precision_score(y_test, y_pred_poly, average='weighted'),\n",
        "        \"Recall\": recall_score(y_test, y_pred_poly, average='weighted'),\n",
        "        \"F1-Score\": f1_score(y_test, y_pred_poly, average='weighted')\n",
        "    }\n",
        "}\n",
        "\n",
        "# Crear DataFrame\n",
        "df_metricas = pd.DataFrame(metricas).T\n",
        "\n",
        "# Mostramos las métricas\n",
        "print(\"📊 Métricas comparadas:\")\n",
        "display(df_metricas)\n",
        "\n",
        "# Creamos el gráfico de barras agrupadas\n",
        "labels = df_metricas.index\n",
        "metricas_names = df_metricas.columns\n",
        "x = np.arange(len(labels))\n",
        "width = 0.2\n",
        "\n",
        "plt.figure(figsize=(10, 6))\n",
        "for i, metrica in enumerate(metricas_names):\n",
        "    plt.bar(x + i * width, df_metricas[metrica], width=width, label=metrica)\n",
        "\n",
        "plt.xticks(x + width, labels)\n",
        "plt.ylim(0, 1.05)\n",
        "plt.ylabel(\"Valor de la Métrica\")\n",
        "plt.title(\"Comparación de Métricas entre Modelos\")\n",
        "plt.legend()\n",
        "plt.grid(axis='y', linestyle='--', alpha=0.7)\n",
        "plt.tight_layout()\n",
        "plt.show()"
      ]
    },
    {
      "cell_type": "code",
      "execution_count": null,
      "metadata": {
        "id": "rHxOLX-EJ4L4",
        "outputId": "cb63c971-be48-4e70-c548-ace6e79e398e"
      },
      "outputs": [
        {
          "name": "stdout",
          "output_type": "stream",
          "text": [
            "============ KERNEL RADIAL ============\n",
            "\n",
            "=== MATRIZ DE CONFUSIÓN ===\n",
            "[[ 4697  5143]\n",
            " [11788 13369]]\n",
            "\n",
            "=== REPORTE DE CLASIFICACIÓN ===\n",
            "              precision    recall  f1-score   support\n",
            "\n",
            "           0       0.28      0.48      0.36      9840\n",
            "           1       0.72      0.53      0.61     25157\n",
            "\n",
            "    accuracy                           0.52     34997\n",
            "   macro avg       0.50      0.50      0.48     34997\n",
            "weighted avg       0.60      0.52      0.54     34997\n",
            "\n",
            "\n",
            "=== EXACTITUD ===\n",
            "Accuracy: 0.5162156756293397\n"
          ]
        },
        {
          "data": {
            "image/png": "[encoded data removed]",
            "text/plain": [
              "<Figure size 800x600 with 1 Axes>"
            ]
          },
          "metadata": {},
          "output_type": "display_data"
        }
      ],
      "source": [
        "import pandas as pd\n",
        "from sklearn.model_selection import train_test_split\n",
        "from sklearn.preprocessing import StandardScaler\n",
        "from sklearn.svm import SVC\n",
        "from sklearn.metrics import classification_report, confusion_matrix, accuracy_score, roc_curve, roc_auc_score\n",
        "import matplotlib.pyplot as plt\n",
        "\n",
        "# =============================\n",
        "# 1. Funciones de Discretización\n",
        "# =============================\n",
        "\n",
        "def bin_alcohol(x):\n",
        "    if x == 0:\n",
        "        return 'None'\n",
        "    elif x <= 10:\n",
        "        return 'Low'\n",
        "    elif x <= 20:\n",
        "        return 'Moderate'\n",
        "    else:\n",
        "        return 'High'\n",
        "\n",
        "def bin_salt(x):\n",
        "    if x < 5:\n",
        "        return 'Low'\n",
        "    elif x <= 10:\n",
        "        return 'Moderate'\n",
        "    else:\n",
        "        return 'High'\n",
        "\n",
        "# =============================\n",
        "# 2. Cargar Dataset\n",
        "# =============================\n",
        "\n",
        "df = pd.read_csv(\"hypertension_dataset.csv\")\n",
        "\n",
        "# Columnas seleccionadas\n",
        "cols = ['Gender', 'Age', 'BMI', 'Physical_Activity_Level', 'Sleep_Duration',\n",
        "        'Smoking_Status', 'Family_History', 'Stress_Level', 'Hypertension',\n",
        "        'Salt_Intake', 'Alcohol_Intake']\n",
        "df = df[cols].copy()\n",
        "\n",
        "# =============================\n",
        "# 3. Aplicar Discretización\n",
        "# =============================\n",
        "\n",
        "df['Alcohol_Intake'] = df['Alcohol_Intake'].apply(bin_alcohol)\n",
        "df['Salt_Intake'] = df['Salt_Intake'].apply(bin_salt)\n",
        "\n",
        "# =============================\n",
        "# 4. Mapeo de Variables Categóricas\n",
        "# =============================\n",
        "\n",
        "df['Hypertension'] = df['Hypertension'].map({'Low': 0, 'High': 1})\n",
        "df['Family_History'] = df['Family_History'].map({'No': 0, 'Yes': 1})\n",
        "df['Gender'] = df['Gender'].map({'Female': 0, 'Male': 1})\n",
        "df['Physical_Activity_Level'] = df['Physical_Activity_Level'].map({'Low': 2, 'Moderate': 1, 'High': 0})\n",
        "df['Smoking_Status'] = df['Smoking_Status'].map({'Never': 0, 'Former': 1, 'Current': 2})\n",
        "df['Alcohol_Intake'] = df['Alcohol_Intake'].map({'None': 0, 'Low': 1, 'Moderate': 2, 'High': 3})\n",
        "df['Salt_Intake'] = df['Salt_Intake'].map({'Low': 0, 'Moderate': 1, 'High': 2})\n",
        "\n",
        "# =============================\n",
        "# 5. Separar Variables y Objetivo\n",
        "# =============================\n",
        "\n",
        "X = df.drop(\"Hypertension\", axis=1)\n",
        "y = df[\"Hypertension\"]\n",
        "\n",
        "# =============================\n",
        "# 6. Dividir en Train/Test\n",
        "# =============================\n",
        "\n",
        "X_train, X_test, y_train, y_test = train_test_split(\n",
        "    X, y, test_size=0.2, random_state=42, stratify=y)\n",
        "\n",
        "# =============================\n",
        "# 7. Escalar Datos Numéricos\n",
        "# =============================\n",
        "\n",
        "scaler = StandardScaler()\n",
        "X_train_scaled = scaler.fit_transform(X_train)\n",
        "X_test_scaled = scaler.transform(X_test)\n",
        "\n",
        "# =============================\n",
        "# 8. Crear y Entrenar el Modelo SVM con probability=True\n",
        "# =============================\n",
        "\n",
        "svm_rbf = SVC(kernel='rbf', C=1, gamma='scale', class_weight='balanced', probability=True, random_state=42)\n",
        "svm_rbf.fit(X_train_scaled, y_train)\n",
        "\n",
        "# =============================\n",
        "# 9. Predicción y Evaluación\n",
        "# =============================\n",
        "\n",
        "y_pred_rbf = svm_rbf.predict(X_test_scaled)\n",
        "y_probs = svm_rbf.predict_proba(X_test_scaled)[:, 1]\n",
        "\n",
        "print(\"============ KERNEL RADIAL ============\")\n",
        "print(\"\\n=== MATRIZ DE CONFUSIÓN ===\")\n",
        "print(confusion_matrix(y_test, y_pred_rbf))\n",
        "\n",
        "print(\"\\n=== REPORTE DE CLASIFICACIÓN ===\")\n",
        "print(classification_report(y_test, y_pred_rbf))\n",
        "\n",
        "print(\"\\n=== EXACTITUD ===\")\n",
        "print(\"Accuracy:\", accuracy_score(y_test, y_pred_rbf))\n",
        "\n",
        "# =============================\n",
        "# 10. Curva ROC y AUC\n",
        "# =============================\n",
        "\n",
        "fpr, tpr, _ = roc_curve(y_test, y_probs)\n",
        "roc_auc = roc_auc_score(y_test, y_probs)\n",
        "\n",
        "plt.figure(figsize=(8, 6))\n",
        "plt.plot(fpr, tpr, label=f\"AUC = {roc_auc:.4f}\", color='blue')\n",
        "plt.plot([0, 1], [0, 1], 'k--', label=\"Random\")\n",
        "plt.xlabel(\"Tasa de Falsos Positivos\")\n",
        "plt.ylabel(\"Tasa de Verdaderos Positivos\")\n",
        "plt.title(\"Curva ROC - SVM\")\n",
        "plt.legend(loc=\"lower right\")\n",
        "plt.grid(True)\n",
        "plt.tight_layout()\n",
        "plt.show()\n"
      ]
    },
    {
      "cell_type": "code",
      "execution_count": null,
      "metadata": {
        "colab": {
          "base_uri": "https://localhost:8080/"
        },
        "id": "riJUD7IJG7GS",
        "outputId": "978a95f0-debf-41ac-da71-bed1fe69f50e"
      },
      "outputs": [
        {
          "name": "stdout",
          "output_type": "stream",
          "text": [
            "✅ Modelo exportado\n"
          ]
        }
      ],
      "source": [
        "from sklearn.pipeline import Pipeline\n",
        "import joblib\n",
        "\n",
        "# Crear un Pipeline que incluye el scaler y el modelo SVM\n",
        "pipeline = Pipeline([\n",
        "    (\"scaler\", StandardScaler()),\n",
        "    (\"clf\", SVC(kernel='rbf', C=1, gamma='scale', class_weight='balanced', probability=True, random_state=42))\n",
        "])\n",
        "\n",
        "# Entrenar el pipeline\n",
        "pipeline.fit(X_train, y_train)\n",
        "\n",
        "# Exportar el pipeline completo con compresión máxima\n",
        "joblib.dump(pipeline, 'SVM.pkl', compress=9)\n",
        "\n",
        "print(\"✅ Modelo exportado\")\n",
        "\n"
      ]
    }
  ],
  "metadata": {
    "accelerator": "GPU",
    "colab": {
      "gpuType": "T4",
      "provenance": [],
      "include_colab_link": true
    },
    "kernelspec": {
      "display_name": "Python 3",
      "name": "python3"
    },
    "language_info": {
      "codemirror_mode": {
        "name": "ipython",
        "version": 3
      },
      "file_extension": ".py",
      "mimetype": "text/x-python",
      "name": "python",
      "nbconvert_exporter": "python",
      "pygments_lexer": "ipython3",
      "version": "3.13.3"
    }
  },
  "nbformat": 4,
  "nbformat_minor": 0
}
